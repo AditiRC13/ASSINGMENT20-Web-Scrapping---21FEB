{
 "cells": [
  {
   "cell_type": "markdown",
   "id": "3a6ac21c-b5ad-433c-9eb1-acc64887200a",
   "metadata": {},
   "source": [
    "Q1. What is Web Scraping? Why is it Used? Give three areas where Web Scraping is used to get data."
   ]
  },
  {
   "cell_type": "markdown",
   "id": "99081875-b488-40d3-834b-ea6dd8d13f6e",
   "metadata": {},
   "source": [
    "--Web scraping is an automatic method to obtain large amounts of data from websites. Most of this data is unstructured data in an HTML format which is then converted into structured data in a spreadsheet or a database so that it can be used in various applications.\n",
    "\n",
    "*Used for\n",
    "-Price Monitoring\n",
    "-Market Research\n",
    "-News Monitoring\n",
    "-Sentiment Analysis\n",
    "-Email Marketing\n",
    "*Shopping Sites: Some several websites and applications can help you to easily compare pricing between several retailers for the same product.\n",
    "\n",
    "*Real Estate Listing: Many real estate agents use web scraping to populate their database of available properties for sale or for rent.\n",
    "\n",
    "*Industry Statistics and Insights: Many companies use web scraping to build massive databases and draw industry-specific insights from these. These companies can then sell access to these insights to companies in said industries.\n",
    "\n",
    "*Lead Generation One incredibly popular use of web scraping is lead generation. This use is so popular in fact, that we have written an entire guide on using web scraping for lead generation.\n"
   ]
  },
  {
   "cell_type": "markdown",
   "id": "7867e39c-00ed-4636-9074-6b4d4308e939",
   "metadata": {},
   "source": [
    "Q2. What are the different methods used for Web Scraping?"
   ]
  },
  {
   "cell_type": "markdown",
   "id": "2945b35f-4adb-408e-8052-d8671a1c5b5f",
   "metadata": {},
   "source": [
    "*HTML Parsing HTML parsing involves the use of JavaScript to target a linear or nested HTML page. It is a powerful and fast method for extracting text and links (e.g. a nested link or email address), scraping screens and pulling resources.\n",
    "\n",
    "*DOM Parsing The Document Object Model (DOM) defines the structure, style and content of an XML file. Scrapers typically use a DOM parser to view the structure of web pages in depth\n",
    "\n",
    "*XPath XPath is short for XML Path Language, which is a query language for XML documents. XML documents have tree-like structures, so scrapers can use XPath\n"
   ]
  },
  {
   "cell_type": "markdown",
   "id": "6be110e1-fa05-4aa8-9c04-73fd260418e6",
   "metadata": {},
   "source": [
    "Q3. What is Beautiful Soup? Why is it used?"
   ]
  },
  {
   "cell_type": "markdown",
   "id": "79bfde8e-7109-469b-9734-9a609927729c",
   "metadata": {},
   "source": [
    "Beautiful Soup provides simple methods for navigating, searching, and modifying a parse tree in HTML, XML files.\n",
    "*It transforms a complex HTML document into a tree of Python objects.\n",
    "*It also automatically converts the document to Unicode, so you don’t have to think about encodings\n",
    "*This tool not only helps you scrape but also to clean the data\n"
   ]
  },
  {
   "cell_type": "markdown",
   "id": "eadff9f9-bec2-491c-9167-cea8520e15cb",
   "metadata": {},
   "source": [
    "Q4. Why is flask used in this Web Scraping project?"
   ]
  },
  {
   "cell_type": "markdown",
   "id": "98915536-d731-476c-8329-7ae579449487",
   "metadata": {},
   "source": [
    "*Flask is a lightweight framework to build websites.\n",
    "*These can be used to scrap data and display all data on the go.\n"
   ]
  },
  {
   "cell_type": "markdown",
   "id": "a4d9bc56-e633-4f97-8a25-4c1ef58941fc",
   "metadata": {},
   "source": [
    "Q5. Write the names of AWS services used in this project. Also, explain the use of each service."
   ]
  },
  {
   "cell_type": "markdown",
   "id": "4459cd09-a8c3-4a87-a20b-34f14883f4d9",
   "metadata": {},
   "source": [
    "*AWS Elastic Beanstalk is an orchestration service offered by Amazon Web Services for deploying applications which orchestrates various AWS services, including EC2, S3, Simple Notification Service, CloudWatch, autoscaling, and Elastic Load\n",
    "\n",
    "*AWS CodePipeline is a fully managed continuous delivery service that helps you automate your release pipelines for fast and reliable application and infrastructure updates.\n"
   ]
  }
 ],
 "metadata": {
  "kernelspec": {
   "display_name": "Python 3 (ipykernel)",
   "language": "python",
   "name": "python3"
  },
  "language_info": {
   "codemirror_mode": {
    "name": "ipython",
    "version": 3
   },
   "file_extension": ".py",
   "mimetype": "text/x-python",
   "name": "python",
   "nbconvert_exporter": "python",
   "pygments_lexer": "ipython3",
   "version": "3.10.8"
  }
 },
 "nbformat": 4,
 "nbformat_minor": 5
}
